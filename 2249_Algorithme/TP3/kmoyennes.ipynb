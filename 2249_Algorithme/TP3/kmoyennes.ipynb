{
 "cells": [
  {
   "cell_type": "markdown",
   "metadata": {},
   "source": [
    "# $k$-Moyennes"
   ]
  },
  {
   "cell_type": "code",
   "execution_count": 1,
   "metadata": {},
   "outputs": [],
   "source": [
    "import numpy as np\n",
    "import pandas as pd\n",
    "import matplotlib.pyplot as plt\n",
    "from sklearn import datasets"
   ]
  },
  {
   "cell_type": "markdown",
   "metadata": {},
   "source": [
    "## Chargement d'un jeux de données\n",
    "\n",
    "Utilisation des jeux de données disponibles sous Scikit-Learn :\n",
    "https://scikit-learn.org/stable/datasets/index.html\n",
    "\n",
    "Choisissez un des jeux de données, e.g. \n",
    "    \n",
    "    iris = datasets.load_iris()\n",
    "    X = iris.data\n",
    "    y = iris.target\n",
    "    \n",
    "    # Visualisation\n",
    "    plt.figure()\n",
    "    plt.scatter(X[:,0], y[:,0], s=7, c=y)\n",
    "    plt.show"
   ]
  },
  {
   "cell_type": "code",
   "execution_count": 7,
   "metadata": {},
   "outputs": [
    {
     "name": "stdout",
     "output_type": "stream",
     "text": [
      "affiche\n",
      "[5.1 4.9 4.7 4.6 5.  5.4 4.6 5.  4.4 4.9]\n",
      "[1.4 1.4 1.3 1.5 1.4 1.7 1.4 1.5 1.4 1.5]\n"
     ]
    },
    {
     "data": {
      "image/png": "[encoded data removed]",
      "text/plain": [
       "<Figure size 432x288 with 1 Axes>"
      ]
     },
     "metadata": {},
     "output_type": "display_data"
    }
   ],
   "source": [
    "iris = datasets.load_iris()\n",
    "X = iris.data\n",
    "y = iris.target\n",
    "print(\"affiche\")\n",
    "print(X[0:10,0])\n",
    "print(X[0:10,2])\n",
    "# Visualisation\n",
    "plt.figure()\n",
    "plt.scatter(X[:,0], X[:,2], s=7, c=y)\n",
    "plt.show()"
   ]
  },
  {
   "cell_type": "code",
   "execution_count": 40,
   "metadata": {},
   "outputs": [
    {
     "name": "stdout",
     "output_type": "stream",
     "text": [
      "[[5.97495646 3.12780066 2.91872345 0.85164451]\n",
      " [7.84571283 3.08273456 3.79029936 0.89386068]\n",
      " [5.44202111 4.19638951 1.77195474 1.68287941]]\n"
     ]
    },
    {
     "ename": "IndexError",
     "evalue": "list index out of range",
     "output_type": "error",
     "traceback": [
      "\u001b[0;31m---------------------------------------------------------------------------\u001b[0m",
      "\u001b[0;31mIndexError\u001b[0m                                Traceback (most recent call last)",
      "\u001b[0;32m<ipython-input-40-d80796940f72>\u001b[0m in \u001b[0;36m<module>\u001b[0;34m()\u001b[0m\n\u001b[1;32m     45\u001b[0m     \u001b[0;32mreturn\u001b[0m \u001b[0mnp\u001b[0m\u001b[0;34m.\u001b[0m\u001b[0masarray\u001b[0m\u001b[0;34m(\u001b[0m\u001b[0mret\u001b[0m\u001b[0;34m)\u001b[0m\u001b[0;34m\u001b[0m\u001b[0m\n\u001b[1;32m     46\u001b[0m \u001b[0;34m\u001b[0m\u001b[0m\n\u001b[0;32m---> 47\u001b[0;31m \u001b[0mtarg\u001b[0m \u001b[0;34m=\u001b[0m \u001b[0mk_means\u001b[0m\u001b[0;34m(\u001b[0m\u001b[0miris\u001b[0m\u001b[0;34m.\u001b[0m\u001b[0mdata\u001b[0m\u001b[0;34m,\u001b[0m\u001b[0;36m3\u001b[0m\u001b[0;34m)\u001b[0m\u001b[0;34m\u001b[0m\u001b[0m\n\u001b[0m\u001b[1;32m     48\u001b[0m \u001b[0mprint\u001b[0m\u001b[0;34m(\u001b[0m\u001b[0mtarg\u001b[0m\u001b[0;34m)\u001b[0m\u001b[0;34m\u001b[0m\u001b[0m\n\u001b[1;32m     49\u001b[0m \u001b[0mprint\u001b[0m\u001b[0;34m(\u001b[0m\u001b[0miris\u001b[0m\u001b[0;34m.\u001b[0m\u001b[0mtarget\u001b[0m\u001b[0;34m)\u001b[0m\u001b[0;34m\u001b[0m\u001b[0m\n",
      "\u001b[0;32m<ipython-input-40-d80796940f72>\u001b[0m in \u001b[0;36mk_means\u001b[0;34m(data, nbCentroides)\u001b[0m\n\u001b[1;32m     19\u001b[0m                     \u001b[0mcentroides_plus_proche\u001b[0m \u001b[0;34m=\u001b[0m \u001b[0mj\u001b[0m\u001b[0;34m\u001b[0m\u001b[0m\n\u001b[1;32m     20\u001b[0m             \u001b[0mtarget\u001b[0m\u001b[0;34m[\u001b[0m\u001b[0mi\u001b[0m\u001b[0;34m]\u001b[0m \u001b[0;34m=\u001b[0m \u001b[0mcentroides_plus_proche\u001b[0m\u001b[0;34m\u001b[0m\u001b[0m\n\u001b[0;32m---> 21\u001b[0;31m         \u001b[0mcentroides\u001b[0m \u001b[0;34m=\u001b[0m \u001b[0mrecalcul_centroides\u001b[0m\u001b[0;34m(\u001b[0m\u001b[0mdata\u001b[0m\u001b[0;34m,\u001b[0m\u001b[0mnbCentroides\u001b[0m\u001b[0;34m,\u001b[0m\u001b[0mtarget\u001b[0m\u001b[0;34m)\u001b[0m\u001b[0;34m\u001b[0m\u001b[0m\n\u001b[0m\u001b[1;32m     22\u001b[0m         \u001b[0mnb\u001b[0m \u001b[0;34m+=\u001b[0m \u001b[0;36m1\u001b[0m\u001b[0;34m\u001b[0m\u001b[0m\n\u001b[1;32m     23\u001b[0m     \u001b[0;32mreturn\u001b[0m \u001b[0mnp\u001b[0m\u001b[0;34m.\u001b[0m\u001b[0masarray\u001b[0m\u001b[0;34m(\u001b[0m\u001b[0mtarget\u001b[0m\u001b[0;34m)\u001b[0m\u001b[0;34m\u001b[0m\u001b[0m\n",
      "\u001b[0;32m<ipython-input-40-d80796940f72>\u001b[0m in \u001b[0;36mrecalcul_centroides\u001b[0;34m(data, nb, target)\u001b[0m\n\u001b[1;32m     30\u001b[0m         \u001b[0mret\u001b[0m\u001b[0;34m[\u001b[0m\u001b[0mtarget\u001b[0m\u001b[0;34m[\u001b[0m\u001b[0mi\u001b[0m\u001b[0;34m]\u001b[0m\u001b[0;34m]\u001b[0m \u001b[0;34m=\u001b[0m \u001b[0mnp\u001b[0m\u001b[0;34m.\u001b[0m\u001b[0madd\u001b[0m\u001b[0;34m(\u001b[0m\u001b[0mret\u001b[0m\u001b[0;34m[\u001b[0m\u001b[0mtarget\u001b[0m\u001b[0;34m[\u001b[0m\u001b[0mi\u001b[0m\u001b[0;34m]\u001b[0m\u001b[0;34m]\u001b[0m\u001b[0;34m,\u001b[0m \u001b[0mdata\u001b[0m\u001b[0;34m[\u001b[0m\u001b[0mi\u001b[0m\u001b[0;34m]\u001b[0m\u001b[0;34m)\u001b[0m\u001b[0;34m\u001b[0m\u001b[0m\n\u001b[1;32m     31\u001b[0m     \u001b[0;32mfor\u001b[0m \u001b[0mi\u001b[0m \u001b[0;32min\u001b[0m \u001b[0mrange\u001b[0m\u001b[0;34m(\u001b[0m\u001b[0mnb\u001b[0m\u001b[0;34m)\u001b[0m\u001b[0;34m:\u001b[0m\u001b[0;34m\u001b[0m\u001b[0m\n\u001b[0;32m---> 32\u001b[0;31m         \u001b[0mret\u001b[0m\u001b[0;34m[\u001b[0m\u001b[0mnb\u001b[0m\u001b[0;34m]\u001b[0m \u001b[0;34m=\u001b[0m \u001b[0mret\u001b[0m\u001b[0;34m[\u001b[0m\u001b[0mnb\u001b[0m\u001b[0;34m]\u001b[0m \u001b[0;34m/\u001b[0m \u001b[0mnbPoints\u001b[0m\u001b[0;34m[\u001b[0m\u001b[0mnb\u001b[0m\u001b[0;34m]\u001b[0m\u001b[0;34m\u001b[0m\u001b[0m\n\u001b[0m\u001b[1;32m     33\u001b[0m     \u001b[0mprint\u001b[0m\u001b[0;34m(\u001b[0m\u001b[0mret\u001b[0m\u001b[0;34m)\u001b[0m\u001b[0;34m\u001b[0m\u001b[0m\n\u001b[1;32m     34\u001b[0m     \u001b[0;32mreturn\u001b[0m \u001b[0mnp\u001b[0m\u001b[0;34m.\u001b[0m\u001b[0masarray\u001b[0m\u001b[0;34m(\u001b[0m\u001b[0mret\u001b[0m\u001b[0;34m)\u001b[0m\u001b[0;34m\u001b[0m\u001b[0m\n",
      "\u001b[0;31mIndexError\u001b[0m: list index out of range"
     ]
    }
   ],
   "source": [
    "def k_means(data, nbCentroides):\n",
    "    centroides = choixCentroides(data,nbCentroides)\n",
    "    print(centroides)\n",
    "    nb = 0\n",
    "    nb_iterations = 6\n",
    "    target = [-1 for col in range(data.shape[0])]\n",
    "    while nb < nb_iterations : \n",
    "        for i in range(data.shape[0]): # pour chacun des points\n",
    "            distance_centroides = np.asarray([0 for col in range(centroides.shape[0])])\n",
    "            for j in range(centroides.shape[0]): # pour le nombre de centroides\n",
    "                \n",
    "                distsous = np.subtract(data[i],centroides[j])\n",
    "                for k in range(centroides.shape[1]): # pour les x y z des centroides\n",
    "                    distance_centroides[j] += np.power(distsous[k],2)\n",
    "                distance_centroides[j] = np.sqrt(distance_centroides[j])\n",
    "            min_dist = np.min(distance_centroides, axis=0)\n",
    "            centroides_plus_proche = -1\n",
    "            for j in range(distance_centroides.shape[0]):\n",
    "                if distance_centroides[j] == min_dist:\n",
    "                    centroides_plus_proche = j\n",
    "            target[i] = centroides_plus_proche\n",
    "        centroides = recalcul_centroides(data,nbCentroides,target)    \n",
    "        nb += 1\n",
    "    return np.asarray(target)\n",
    "\n",
    "def recalcul_centroides(data,nb,target):\n",
    "    ret = [[0 for col in range(data.shape[1])] for col in range(nb)] # initialize array with value 0\n",
    "    nbPoints = [0 for col in range(nb)]\n",
    "    for i in range(data.shape[0]):\n",
    "        nbPoints[target[i]] += 1\n",
    "        ret[target[i]] = np.add(ret[target[i]], data[i]) \n",
    "    for i in range(nb):\n",
    "        ret[nb] = ret[nb] / nbPoints[nb]\n",
    "    print(ret)\n",
    "    return np.asarray(ret)\n",
    "\n",
    "def choixCentroides(data,nb):\n",
    "    ret = [0 for col in range(nb)] # initialize array with value 0\n",
    "    mini = np.min(data,axis=0)\n",
    "    maxi = np.max(data,axis=0)\n",
    "    for i in range(nb): \n",
    "        tmp = [0 for col in range(data.shape[1])] # initialize array with value 0\n",
    "        for j in range(data.shape[1]):\n",
    "            tmp[j] = np.random.uniform(mini[j],maxi[j])\n",
    "        ret[i] = tmp\n",
    "    return np.asarray(ret)\n",
    "\n",
    "def assign_center(X,C)\n",
    "targ = k_means(iris.data,3)\n",
    "print(targ)\n",
    "print(iris.target)\n",
    "\n",
    "plt.figure()\n",
    "plt.scatter(X[:,0], X[:,2], s=7, c=targ)\n",
    "plt.show()\n",
    "plt.figure()\n",
    "plt.scatter(X[:,0], X[:,2], s=7, c=y)\n",
    "plt.show()"
   ]
  },
  {
   "cell_type": "code",
   "execution_count": null,
   "metadata": {},
   "outputs": [],
   "source": []
  },
  {
   "cell_type": "code",
   "execution_count": null,
   "metadata": {},
   "outputs": [],
   "source": []
  }
 ],
 "metadata": {
  "kernelspec": {
   "display_name": "Python 3",
   "language": "python",
   "name": "python3"
  },
  "language_info": {
   "codemirror_mode": {
    "name": "ipython",
    "version": 3
   },
   "file_extension": ".py",
   "mimetype": "text/x-python",
   "name": "python",
   "nbconvert_exporter": "python",
   "pygments_lexer": "ipython3",
   "version": "3.6.5"
  }
 },
 "nbformat": 4,
 "nbformat_minor": 2
}
