{
 "cells": [
  {
   "cell_type": "markdown",
   "metadata": {},
   "source": [
    "## Prise en main"
   ]
  },
  {
   "cell_type": "code",
   "execution_count": 1,
   "metadata": {},
   "outputs": [],
   "source": [
    "x = 2434+33476\n",
    "y = 1+3 "
   ]
  },
  {
   "cell_type": "code",
   "execution_count": null,
   "metadata": {},
   "outputs": [],
   "source": [
    "x"
   ]
  },
  {
   "cell_type": "code",
   "execution_count": 2,
   "metadata": {},
   "outputs": [
    {
     "name": "stdout",
     "output_type": "stream",
     "text": [
      "35910\n"
     ]
    }
   ],
   "source": [
    "print(x)"
   ]
  },
  {
   "cell_type": "code",
   "execution_count": null,
   "metadata": {},
   "outputs": [],
   "source": [
    "x\n",
    "print(x)"
   ]
  },
  {
   "cell_type": "code",
   "execution_count": null,
   "metadata": {},
   "outputs": [],
   "source": [
    "y"
   ]
  },
  {
   "cell_type": "code",
   "execution_count": null,
   "metadata": {},
   "outputs": [],
   "source": [
    "y\n",
    "print(x)"
   ]
  },
  {
   "cell_type": "code",
   "execution_count": null,
   "metadata": {},
   "outputs": [],
   "source": [
    "print(y)\n",
    "x"
   ]
  },
  {
   "cell_type": "code",
   "execution_count": null,
   "metadata": {},
   "outputs": [],
   "source": [
    "print?"
   ]
  },
  {
   "cell_type": "code",
   "execution_count": null,
   "metadata": {},
   "outputs": [],
   "source": [
    "print"
   ]
  },
  {
   "cell_type": "code",
   "execution_count": 34,
   "metadata": {},
   "outputs": [],
   "source": [
    "import numpy as np\n",
    "import scipy\n",
    "import matplotlib as plt\n",
    "import sklearn"
   ]
  },
  {
   "cell_type": "markdown",
   "metadata": {},
   "source": [
    "# Exercices"
   ]
  },
  {
   "cell_type": "markdown",
   "metadata": {},
   "source": [
    "## Exercice 1 : norme d'une liste\n",
    "Ecrire une fonction Python qui calcule la norme Euclidienne d'un vecteur de dimension arbitraire définie sous forme de liste."
   ]
  },
  {
   "cell_type": "code",
   "execution_count": 5,
   "metadata": {},
   "outputs": [],
   "source": [
    "vecteur = [5,3,np.sqrt(2)]"
   ]
  },
  {
   "cell_type": "code",
   "execution_count": 9,
   "metadata": {},
   "outputs": [],
   "source": [
    "def normeEuclidienne(list):\n",
    "    ret = 0\n",
    "    for i in range(0,len(list)):\n",
    "        ret = ret + list[i] ** 2\n",
    "    ret = np.sqrt(ret)\n",
    "    return ret"
   ]
  },
  {
   "cell_type": "code",
   "execution_count": 10,
   "metadata": {},
   "outputs": [
    {
     "name": "stdout",
     "output_type": "stream",
     "text": [
      "6.0\n"
     ]
    }
   ],
   "source": [
    "print(normeEuclidienne(vecteur))"
   ]
  },
  {
   "cell_type": "markdown",
   "metadata": {},
   "source": [
    "Citez des avantages des listes en Python ? [A compléter]\n",
    "\n",
    "1. \n",
    "2. \n",
    "3. \n",
    "4. "
   ]
  },
  {
   "cell_type": "markdown",
   "metadata": {},
   "source": [
    "## Exercice 1bis : matrice Numpy\n",
    "\n",
    "* Ecrire une méthode créant une matrice, sous forme de listes de listes, de taille prédéfinie, remplie aléatoirement.\n",
    "* Ecrire un produit matrice/vecteur utilisant cette structure et basée sur une double boucle.\n",
    "* Comparer le temps d'exécution (package time) de votre produit avec la même opération réalisée par Numpy."
   ]
  },
  {
   "cell_type": "code",
   "execution_count": 13,
   "metadata": {},
   "outputs": [],
   "source": [
    "# Import de package \n",
    "import random  # https://docs.python.org/3.7/library/random.html\n",
    "import time    # https://docs.python.org/3.7/library/time.html"
   ]
  },
  {
   "cell_type": "code",
   "execution_count": 45,
   "metadata": {},
   "outputs": [],
   "source": [
    "def afficheTemps(func, args=()):\n",
    "    tmp1 = time.process_time()\n",
    "    val = func(*args)\n",
    "    tmp = time.process_time() - tmp1\n",
    "    print(\"Temps exécution (en secondes):\", tmp)\n",
    "    return val"
   ]
  },
  {
   "cell_type": "code",
   "execution_count": 33,
   "metadata": {},
   "outputs": [],
   "source": [
    "def soluceCreationMatrice(ligne,colonne):\n",
    "    return [[random.randint(0,10) for i in range(colonne)] for j in range(ligne)]"
   ]
  },
  {
   "cell_type": "code",
   "execution_count": 25,
   "metadata": {},
   "outputs": [],
   "source": [
    "def createMatrice(sizeN, sizeM, entreA, etB):\n",
    "    ret = []\n",
    "    for i in range(0,sizeN):\n",
    "        ligne = []\n",
    "        for j in range(0,sizeM):\n",
    "            ligne.append(random.randint(entreA,etB))\n",
    "        ret.append(ligne)\n",
    "    return ret"
   ]
  },
  {
   "cell_type": "code",
   "execution_count": 32,
   "metadata": {},
   "outputs": [
    {
     "name": "stdout",
     "output_type": "stream",
     "text": [
      "[[3, 5, 9], [4, 20, 12]]\n",
      "[[1, 1, 9], [6, 9, 3], [0, 0, 1]]\n"
     ]
    }
   ],
   "source": [
    "print(createMatrice(2,3,1,20))\n",
    "print(soluceCreationMatrice(3,3))"
   ]
  },
  {
   "cell_type": "code",
   "execution_count": 29,
   "metadata": {},
   "outputs": [],
   "source": [
    "def produit(matrice, vecteur):\n",
    "    if(len(matrice[0]) != len(vecteur)):\n",
    "        return 0\n",
    "    ret = []\n",
    "    for i in range(0,len(matrice)):\n",
    "        somme = 0\n",
    "        for j in range(0,len(matrice[i])):\n",
    "            somme = somme + matrice[i][j] * vecteur[j]\n",
    "        ret.append(somme)\n",
    "    return ret"
   ]
  },
  {
   "cell_type": "code",
   "execution_count": 56,
   "metadata": {},
   "outputs": [
    {
     "name": "stdout",
     "output_type": "stream",
     "text": [
      "Temps exécution (en secondes): 0.1086162629999996\n",
      "Temps exécution (en secondes): 0.08378199599999991\n",
      "resultat\n"
     ]
    }
   ],
   "source": [
    "mat = createMatrice(1000,1000,1,2000000000)\n",
    "vecteurProd = [random.randint(0,3000000000) for i in range(1000)]\n",
    "afficheTemps(produit,(mat,vecteurProd))\n",
    "afficheTemps(np.dot,(mat,vecteurProd))\n",
    "print(\"resultat\")"
   ]
  },
  {
   "cell_type": "markdown",
   "metadata": {},
   "source": [
    "Quel temps obtenez vous ? Les résultats son en secondes. On peut voir que numpy est optimisé pour les grandes données\n",
    "\n",
    "Cas | $(m,n)$ | Boucle for | Solution Numpy\n",
    ": | :-: | :-: | :-:\n",
    "Cas 1 | (10,10) | 2.715400000008472e-05|7.525899999993868e-05\n",
    "Cas 2 | (100,100)|0.001132144000000057|0.0014082020000003581\n",
    "Cas 3 | (1000,1000)| 0.11101259399999996|0.08378199599999991"
   ]
  },
  {
   "cell_type": "markdown",
   "metadata": {},
   "source": [
    "## Exercice 2 : pickle\n",
    "\n",
    "* Définissez votre propre liste de chaînes de caractère (par exemple, une liste de villes de Bretagne).\n",
    "* Utilisez le module ``pickle`` pour sauver cette liste dans un fichier texte : [Pickle](https://docs.python.org/3/library/pickle.html).\n",
    "* Rechargez cette liste.\n",
    "* Même chose avec un dictionnaire."
   ]
  },
  {
   "cell_type": "code",
   "execution_count": 58,
   "metadata": {},
   "outputs": [],
   "source": [
    "import pickle"
   ]
  },
  {
   "cell_type": "code",
   "execution_count": 60,
   "metadata": {},
   "outputs": [],
   "source": [
    "list_ville = { \"Vannes\", \"Rennes\", \"Brest\",\"Saint-Brieuc\", \"Le Bono\" }"
   ]
  },
  {
   "cell_type": "code",
   "execution_count": 61,
   "metadata": {},
   "outputs": [],
   "source": [
    "pickle.dump( list_ville, open( \"save.p\", \"wb\" ) )"
   ]
  },
  {
   "cell_type": "code",
   "execution_count": 63,
   "metadata": {},
   "outputs": [
    {
     "name": "stdout",
     "output_type": "stream",
     "text": [
      "{'Brest', 'Saint-Brieuc', 'Le Bono', 'Rennes', 'Vannes'}\n"
     ]
    }
   ],
   "source": [
    "listRecupere = pickle.load( open( \"save.p\", \"rb\" ) )\n",
    "print(listRecupere)"
   ]
  },
  {
   "cell_type": "code",
   "execution_count": 65,
   "metadata": {},
   "outputs": [
    {
     "name": "stdout",
     "output_type": "stream",
     "text": [
      "{'nom': 'Roger', 'espece': 'kangourou', 'poids': '89 kg', 'taille': '2,07 m', 'corpulence': 'bodybuilder'}\n"
     ]
    }
   ],
   "source": [
    "mon_dictionnaire = {}\n",
    "mon_dictionnaire[\"nom\"] = \"Roger\" \n",
    "mon_dictionnaire[\"espece\"] = \"kangourou\"\n",
    "mon_dictionnaire[\"poids\"] = \"89 kg\"\n",
    "mon_dictionnaire[\"taille\"] = \"2,07 m\"\n",
    "mon_dictionnaire[\"corpulence\"] = \"bodybuilder\"\n",
    "\n",
    "pickle.dump( mon_dictionnaire, open( \"animaux_connus.p\", \"wb\" ) )\n",
    "\n",
    "listAnimaux = pickle.load(open(\"animaux_connus.p\", \"rb\"))\n",
    "\n",
    "print(listAnimaux)"
   ]
  },
  {
   "cell_type": "markdown",
   "metadata": {},
   "source": [
    "## Exercice 3 : Classe\n",
    "\n",
    "* Créer une classe Python nommée ``Vecteur``, que l'on utilisera pour décrire un vecteur plan. Ces paramètres sont ``x`` et ``y``.\n",
    "* Implémenter l'addition ``__add__``, la soustraction ``__sub__``, les multiplications ``__mul__`` et ``__rmul__`` par un vecteur et un scalaire, et la représentation ``__repr__``. Ne pas oublier le constructeur ``__init__``.\n",
    "* Créer une classe nommée ``Particule``, dont les paramètres sont les vecteurs position et vitesse. Implémenter une méthode ``deplace(dt)`` pour calculer la nouvelle position d'une particule après un pas de temps dt."
   ]
  },
  {
   "cell_type": "code",
   "execution_count": 24,
   "metadata": {},
   "outputs": [],
   "source": [
    "class Vecteur:    \n",
    "    def __init__(self, x_, y_):\n",
    "        self.x = x_\n",
    "        self.y = y_\n",
    "    \n",
    "    def __add__(self, vecteur):\n",
    "        return Vecteur(self.x + vecteur.x, self.y + vecteur.y)\n",
    "    \n",
    "    def __sub__(self, vecteur):\n",
    "        return Vecteur(self.x - vecteur.x, self.y - vecteur.y)\n",
    "    \n",
    "    def __mul__(self, vecteur):\n",
    "        return self.x * vecteur.x + self.y * vecteur.y\n",
    "    \n",
    "    def __rmul__(self, scalaire):\n",
    "        return Vecteur(self.x * scalaire, self.y * scalaire)\n",
    "    \n",
    "    def __rep__(self):\n",
    "        return {'x':self.x, 'y':self.y}\n",
    "    \n",
    "    def __str__(self):\n",
    "        return \"[%s,%s]\" % (self.x, self.y)\n",
    "    \n",
    "class Particule:    \n",
    "    def __init__(self, position_, vitesse_):\n",
    "        self.position = position_\n",
    "        self.vitesse = vitesse_\n",
    "    \n",
    "    def deplace(self,dt):\n",
    "        self.position = self.position + (dt * self.vitesse )\n",
    "    \n",
    "    def __str__(self):\n",
    "        return \"Particule(%s,%s)\" % (self.position, self.vitesse)"
   ]
  },
  {
   "cell_type": "code",
   "execution_count": 18,
   "metadata": {},
   "outputs": [
    {
     "name": "stdout",
     "output_type": "stream",
     "text": [
      "[3,5]\n",
      "[1,3]\n",
      "6\n",
      "[6,12]\n"
     ]
    }
   ],
   "source": [
    "vect1 = Vecteur(2,4)\n",
    "vect2 = Vecteur(1,1)\n",
    "vect3 = vect1 + vect2\n",
    "print(vect3)\n",
    "vect4 = vect1 - vect2\n",
    "print(vect4)\n",
    "print(vect1 * vect2)\n",
    "print( 3 * vect1)"
   ]
  },
  {
   "cell_type": "markdown",
   "metadata": {},
   "source": [
    "Testez le bon fonctionnement de vos deux classes"
   ]
  },
  {
   "cell_type": "code",
   "execution_count": 27,
   "metadata": {},
   "outputs": [
    {
     "name": "stdout",
     "output_type": "stream",
     "text": [
      "Particule([1,1],[3,2])\n",
      "Particule([4,3],[3,2])\n",
      "Particule([2.5,2.0],[3,2])\n"
     ]
    }
   ],
   "source": [
    "vecPos = Vecteur(1,1)\n",
    "vecVitesse = Vecteur(3,2)\n",
    "dt = 5\n",
    "particule = Particule(vecPos, vecVitesse)\n",
    "print(particule)\n",
    "particule.deplace(1)\n",
    "print(particule)\n",
    "particule.deplace(-0.5)\n",
    "print(particule)"
   ]
  },
  {
   "cell_type": "markdown",
   "metadata": {},
   "source": [
    "## Exercice 4 : Simpy\n",
    "\n",
    "$$ I = \\int_{-\\infty}^{+\\infty} e^{-x^2}dx$$\n",
    "\n",
    "* Calculez l’intégrale suivante (dite de Gauss) en utilisant la méthode symbolique de [Simpy](https://docs.sympy.org/1.5.1/modules/integrals/integrals.html) \n",
    "* Calculez cette même intégrale numériquement en utilisant la méthode des trapèzes de numpy (i.e. ``numpy.trapz``) \n",
    "* Calculez une nouvelle fois la même intégrale avec une méthode de calcul équivalente que vous aurez codée.\n",
    "\n"
   ]
  },
  {
   "cell_type": "code",
   "execution_count": 45,
   "metadata": {},
   "outputs": [],
   "source": [
    "#!pip install simpy\n",
    "from simpy import *\n",
    "from sympy import *\n",
    "import math\n",
    "x = symbols('x')"
   ]
  },
  {
   "cell_type": "code",
   "execution_count": 48,
   "metadata": {},
   "outputs": [
    {
     "data": {
      "text/latex": [
       "$\\displaystyle \\frac{x^{2} e^{x} \\sin{\\left(x \\right)}}{2} + \\frac{x^{2} e^{x} \\cos{\\left(x \\right)}}{2} - x e^{x} \\sin{\\left(x \\right)} + \\frac{e^{x} \\sin{\\left(x \\right)}}{2} - \\frac{e^{x} \\cos{\\left(x \\right)}}{2}$"
      ],
      "text/plain": [
       "x**2*exp(x)*sin(x)/2 + x**2*exp(x)*cos(x)/2 - x*exp(x)*sin(x) + exp(x)*sin(x)/2 - exp(x)*cos(x)/2"
      ]
     },
     "execution_count": 48,
     "metadata": {},
     "output_type": "execute_result"
    }
   ],
   "source": [
    "#inte = integrate(math.exp(- math.pow(x,2), (x, - np.inf, np.inf)))\n",
    "integrate(x**2 * exp(x) * cos(x), x)"
   ]
  },
  {
   "cell_type": "code",
   "execution_count": null,
   "metadata": {},
   "outputs": [],
   "source": []
  },
  {
   "cell_type": "code",
   "execution_count": null,
   "metadata": {},
   "outputs": [],
   "source": []
  },
  {
   "cell_type": "markdown",
   "metadata": {},
   "source": [
    "## Exercice 5 : image\n",
    "\n",
    "* Récupérez l’image hyperspectrale nommée ``Urban_R162.mat`` \n",
    "* Examinez la structure de données correspondantes \n",
    "* Faire une fonction qui affiche une bande spectrale donnée de l’image sous la forme d’une image avec une colormap \n",
    "* Affichez une composition couleur de cette image en choisissant la correspondance spectre/couleur suivante : \n",
    "\n",
    " 50->R 100->G 150->B \n",
    "* Affichez sur un même diagramme 10 spectres pris aléatoirement dans l’image"
   ]
  },
  {
   "cell_type": "code",
   "execution_count": 41,
   "metadata": {},
   "outputs": [],
   "source": [
    "%matplotlib inline\n",
    "import matplotlib.pyplot as plt"
   ]
  },
  {
   "cell_type": "code",
   "execution_count": 2,
   "metadata": {},
   "outputs": [],
   "source": [
    "# Lecture d'un fichier .mat en Python\n",
    "import scipy.io\n",
    "mat = scipy.io.loadmat('Urban_R162.mat')"
   ]
  },
  {
   "cell_type": "code",
   "execution_count": null,
   "metadata": {},
   "outputs": [],
   "source": []
  },
  {
   "cell_type": "markdown",
   "metadata": {},
   "source": [
    "Comment est organisé la donnée (quelle structure ?) ? Quelle est la taille de l'image ? [A compléter]"
   ]
  },
  {
   "cell_type": "code",
   "execution_count": null,
   "metadata": {},
   "outputs": [],
   "source": []
  },
  {
   "cell_type": "code",
   "execution_count": null,
   "metadata": {},
   "outputs": [],
   "source": []
  },
  {
   "cell_type": "code",
   "execution_count": null,
   "metadata": {},
   "outputs": [],
   "source": []
  },
  {
   "cell_type": "code",
   "execution_count": null,
   "metadata": {},
   "outputs": [],
   "source": []
  }
 ],
 "metadata": {
  "kernelspec": {
   "display_name": "Python 3",
   "language": "python",
   "name": "python3"
  },
  "language_info": {
   "codemirror_mode": {
    "name": "ipython",
    "version": 3
   },
   "file_extension": ".py",
   "mimetype": "text/x-python",
   "name": "python",
   "nbconvert_exporter": "python",
   "pygments_lexer": "ipython3",
   "version": "3.7.3"
  }
 },
 "nbformat": 4,
 "nbformat_minor": 4
}
