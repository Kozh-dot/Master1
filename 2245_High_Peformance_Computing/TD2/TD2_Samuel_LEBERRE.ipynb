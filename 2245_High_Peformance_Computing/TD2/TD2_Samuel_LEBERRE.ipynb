{
 "cells": [
  {
   "cell_type": "markdown",
   "metadata": {},
   "source": [
    "# Approche force brute"
   ]
  },
  {
   "cell_type": "markdown",
   "metadata": {},
   "source": [
    "Dans ce TP on se propose d’examiner différentes manières de coder et résoudre des problèmes dela classe NP. on s’intéresse au problème du sac à dos. On suppose que l’on dispose de i items ayant chacun une utilité (ou gain) ui. <br> \n",
    "Chacun de ces items a un poids mi.  <br>\n",
    "On cherche à maximiser le gain en empaquetant le plus d’items possibles dans un sac de capacité maximaleM.  <br>\n",
    "On distingue deux cas intéressants i) les items ne sont disponibles qu’en un seul exemplaire, i.e. on cherche à déterminer la quantité xi∈{0,1} associée à chaque item,ii) on peut prendre plusieurs fois le même item, i.e.xi∈N+. <br>\n",
    "Le problème se formalise de la manière suivante:U=maxxi∑ixiui(1)s.c.∑iximi≤M(2) <br>\n",
    "On va examiner différentes méthodes pour résoudre ce problème vous permettant de sentir sa complexité. Vous générez pour chaque test que vous ferez un vecteur d’utilité et un vecteur de poids qui seront des entiers tirés aléatoirement dans[1,10].  <br>\n",
    "Vous réglerez M en fonction du nombre d’items possibles, par exemple si vous avez à votre dispositions n items (qui sera un paramètre de votre procédure de test), vous pourrez choisir M= 7n. Vous écrirez une fonction solve_bag pour chaque variante qui prendra les vecteurs d’utilité, de poids et M en paramètres et rendra la valeur max (gain total) atteinte,ainsi que le temps lié au calcul. <br>"
   ]
  },
  {
   "cell_type": "code",
   "execution_count": null,
   "metadata": {},
   "outputs": [],
   "source": []
  },
  {
   "cell_type": "markdown",
   "metadata": {},
   "source": [
    "On ne s’embarasse pas de considérations complexes ici : écrire une méthode qui calcule toutes les combinaisons possible (2n!), les évalue, et renvoie le gain optimal."
   ]
  },
  {
   "cell_type": "code",
   "execution_count": 13,
   "metadata": {},
   "outputs": [
    {
     "name": "stdout",
     "output_type": "stream",
     "text": [
      "2\n"
     ]
    }
   ],
   "source": [
    "def combinaisonFactor(n):\n",
    "    if(n <= 0):\n",
    "        return 1\n",
    "    res = 1\n",
    "    for i in range(0,n+1):\n",
    "        res = res * (2**i)\n",
    "    return res\n",
    "\n",
    "print(combinaisonFactor(1))"
   ]
  },
  {
   "cell_type": "markdown",
   "metadata": {},
   "source": [
    "même chose mais cette fois ci on peut choisir plusieurs fois le même item. On pourra determiner,pour chaque item la borne max du nombre de fois où on peut choisir cet item comme la partie entière de M/mi. \n",
    "Attention, les temps de calcul peuvent devenir très long pour des valeurs de M élevés."
   ]
  },
  {
   "cell_type": "code",
   "execution_count": null,
   "metadata": {},
   "outputs": [],
   "source": []
  },
  {
   "cell_type": "markdown",
   "metadata": {},
   "source": [
    "# Approche gloutonne"
   ]
  },
  {
   "cell_type": "markdown",
   "metadata": {},
   "source": [
    "On calcule pour chaque objet le rapport gain/masse (ui/mi). On trie les objets par ordre décroissant,puis on remplit le sac dans cet ordre jusqu’à ne plus pouvoir rajouter d’items. Comparer la qualité dela solution obtenue avec celle du solveur exact précédent. Trouvez notamment des cas de figure où lastratégie gloutonne ne donne pas la solution optimale du problème. Ici encore vous coderez deux versionsde la fonction (un seul item disponible et nombre illimité d’items à disposition)."
   ]
  },
  {
   "cell_type": "code",
   "execution_count": null,
   "metadata": {},
   "outputs": [],
   "source": []
  },
  {
   "cell_type": "markdown",
   "metadata": {},
   "source": [
    "# Programmation dynamique"
   ]
  },
  {
   "cell_type": "markdown",
   "metadata": {},
   "source": [
    "On se limite ici au cas où un seul item de chaque objet est disponible.L’idée de la programmation dynamique est de résoudre incrémentalement des versions plus simplesdu problème, et de stocker des résultats intermédiaires nécessaires pour ajouter de nouvelles variables.On réalise alors un compromis temps/espace. Dans le cas du problème du sac à dos, le problème est ditàsous-structure optimale, c’est à dire qu’on peut trouver la valeur optimale du problème àivariable à1\n",
    "partir de la valeur optimale ài−1variables. On définit par récurrence la quantitéP(k, m)suivante,décrivant l’état du système pour k variables :P(k, m)  =maxxik∑ixiui(3)s.c.∑iximi≤m(4)alors la solution optimale est soit :1. la solution optimaleP(k−1, m)où l’on choisit de ne pas rajouter l’item, i.e.xk= 02. la solution optimaleP(k−1, m−mk) +ukoù l’on choisit de rajouter l’item, i.e.xk= 1Il suffit alors de construire un tableau des différentes possibilitésP(k, m). Une fois ce tableau construit,il suffit de partir de la caseP(k, M)et de remonter à la caseP(0, .)pour savoir si l’on choisit l’item ounon et construire ainsi la solution.On note alors que la complexité de l’algorithme est en temps et en espaceo(nM). Bien que d’allurepolynomiale, on n’a pas montré queP=N P: le codage deMse faisant surlog(M)bits, on reste bienencomplexité exponentiellede la taille de l’entrée.Coder et tester cet algorithme."
   ]
  },
  {
   "cell_type": "code",
   "execution_count": null,
   "metadata": {},
   "outputs": [],
   "source": []
  },
  {
   "cell_type": "markdown",
   "metadata": {},
   "source": [
    "# Bilan"
   ]
  },
  {
   "cell_type": "markdown",
   "metadata": {},
   "source": [
    "Pour chaque méthode, faire varier le nombre d’itemsn, et mesurez un temps moyen pris sur10résolutiondu problème.  Tracez les courbes de temps d’exécution moyen correspondantes pour les 3 méthodesdans les 2 cas de figure (une seule ou plusieurs fois le même item, où on n’exclura la programmation dynamique)."
   ]
  },
  {
   "cell_type": "code",
   "execution_count": null,
   "metadata": {},
   "outputs": [],
   "source": []
  }
 ],
 "metadata": {
  "kernelspec": {
   "display_name": "Python 3",
   "language": "python",
   "name": "python3"
  },
  "language_info": {
   "codemirror_mode": {
    "name": "ipython",
    "version": 3
   },
   "file_extension": ".py",
   "mimetype": "text/x-python",
   "name": "python",
   "nbconvert_exporter": "python",
   "pygments_lexer": "ipython3",
   "version": "3.6.5"
  }
 },
 "nbformat": 4,
 "nbformat_minor": 2
}
