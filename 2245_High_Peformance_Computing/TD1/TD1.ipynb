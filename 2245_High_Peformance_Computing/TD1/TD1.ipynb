{
 "cells": [
  {
   "cell_type": "markdown",
   "metadata": {},
   "source": [
    "# TD1"
   ]
  },
  {
   "cell_type": "markdown",
   "metadata": {},
   "source": [
    "## Question 1\n",
    "### Création tableau"
   ]
  },
  {
   "cell_type": "code",
   "execution_count": 34,
   "metadata": {},
   "outputs": [],
   "source": [
    "import time\n",
    "import timeit\n",
    "import numpy as np\n",
    "\n",
    "tabSorted = np.arange(10000)\n",
    "tabRandom = np.arange(10000)\n",
    "np.random.shuffle(tabRandom)\n",
    "\n",
    "def wrapper(func, args=()):\n",
    "    tmp1 = time.clock()\n",
    "    val = func(*args)\n",
    "    tmp = time.clock() - tmp1\n",
    "    print(\"Current processor time (in seconds):\", tmp)\n",
    "    return val"
   ]
  },
  {
   "cell_type": "markdown",
   "metadata": {},
   "source": [
    "### Sequentielle"
   ]
  },
  {
   "cell_type": "code",
   "execution_count": 37,
   "metadata": {},
   "outputs": [
    {
     "name": "stdout",
     "output_type": "stream",
     "text": [
      "Current processor time (in seconds): 1.4100000043981709e-05\n",
      "True\n",
      "Current processor time (in seconds): 0.0023978000000397515\n",
      "True\n",
      "Current processor time (in seconds): 0.002320499999996173\n",
      "False\n",
      "Current processor time (in seconds): 0.0006365000000414511\n",
      "True\n",
      "Current processor time (in seconds): 0.0020620999999891865\n",
      "True\n",
      "Current processor time (in seconds): 0.0023240000000441796\n",
      "False\n"
     ]
    }
   ],
   "source": [
    "def sequentielle(tableau, valeur):\n",
    "    for i in range(0,tableau.size):\n",
    "        if(tableau[i] == valeur):\n",
    "            return True\n",
    "    return False\n",
    "\n",
    "print(wrapper(sequentielle,(tabSorted,0))) # Cas le plus court\n",
    "print(wrapper(sequentielle,(tabSorted,9999))) #Cas le plus long\n",
    "print(wrapper(sequentielle,(tabSorted,10000))) #Cas Faux\n",
    "print(wrapper(sequentielle,(tabRandom,0)))\n",
    "print(wrapper(sequentielle,(tabRandom,9999)))\n",
    "print(wrapper(sequentielle,(tabRandom,10000)))"
   ]
  },
  {
   "cell_type": "markdown",
   "metadata": {},
   "source": [
    "### Dichotomique"
   ]
  },
  {
   "cell_type": "code",
   "execution_count": 42,
   "metadata": {},
   "outputs": [
    {
     "name": "stdout",
     "output_type": "stream",
     "text": [
      "Current processor time (in seconds): 2.6700000034907134e-05\n",
      "True\n",
      "Current processor time (in seconds): 2.159999996820261e-05\n",
      "True\n",
      "Current processor time (in seconds): 1.7999999499807018e-06\n",
      "True\n",
      "Current processor time (in seconds): 1.899999995202961e-05\n",
      "True\n"
     ]
    }
   ],
   "source": [
    "def dichotomique(tableau, valeur):\n",
    "    if(tableau.size == 0):\n",
    "        return False\n",
    "    milieu = int((tableau.size/2))\n",
    "    if(tableau[milieu] == valeur):\n",
    "        return True\n",
    "    if(tableau[milieu] > valeur):\n",
    "        return dichotomique(tableau[0:milieu], valeur)\n",
    "    elif(tableau[milieu] < valeur):\n",
    "        return dichotomique(tableau[milieu:], valeur)\n",
    "    else :\n",
    "        return False\n",
    "    \n",
    "print(wrapper(dichotomique,(tabSorted,0))) # Cas long\n",
    "print(wrapper(dichotomique,(tabSorted,9999))) # Cas long\n",
    "print(wrapper(dichotomique,(tabSorted,5000))) # Cas le plus rapide\n",
    "print(wrapper(dichotomique,(tabSorted,4999))) # Cas long"
   ]
  },
  {
   "cell_type": "code",
   "execution_count": null,
   "metadata": {},
   "outputs": [],
   "source": []
  }
 ],
 "metadata": {
  "kernelspec": {
   "display_name": "Python 3",
   "language": "python",
   "name": "python3"
  },
  "language_info": {
   "codemirror_mode": {
    "name": "ipython",
    "version": 3
   },
   "file_extension": ".py",
   "mimetype": "text/x-python",
   "name": "python",
   "nbconvert_exporter": "python",
   "pygments_lexer": "ipython3",
   "version": "3.7.3"
  }
 },
 "nbformat": 4,
 "nbformat_minor": 4
}
