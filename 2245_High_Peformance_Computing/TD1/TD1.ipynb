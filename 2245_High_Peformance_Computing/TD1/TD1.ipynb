{
 "cells": [
  {
   "cell_type": "markdown",
   "metadata": {},
   "source": [
    "# TD1"
   ]
  },
  {
   "cell_type": "markdown",
   "metadata": {},
   "source": [
    "## Question 1\n",
    "### Création tableau"
   ]
  },
  {
   "cell_type": "code",
   "execution_count": 11,
   "metadata": {},
   "outputs": [],
   "source": [
    "import time\n",
    "import timeit\n",
    "import numpy as np\n",
    "\n",
    "tabSorted = np.arange(10000)\n",
    "tabRandom = np.arange(10000)\n",
    "np.random.shuffle(tabRandom)\n",
    "\n",
    "def wrapper(func, args=()):\n",
    "    tmp1 = time.process_time()\n",
    "    val = func(*args)\n",
    "    tmp = time.process_time() - tmp1\n",
    "    print(\"Current processor time (in seconds):\", tmp)\n",
    "    return val"
   ]
  },
  {
   "cell_type": "markdown",
   "metadata": {},
   "source": [
    "### Sequentielle"
   ]
  },
  {
   "cell_type": "code",
   "execution_count": 24,
   "metadata": {},
   "outputs": [
    {
     "name": "stdout",
     "output_type": "stream",
     "text": [
      "Current processor time (in seconds): 9.114000000032263e-06\n",
      "True\n",
      "Current processor time (in seconds): 0.0016158169999997973\n",
      "True\n",
      "Current processor time (in seconds): 0.0015688419999999592\n",
      "False\n",
      "Current processor time (in seconds): 0.00035384800000004546\n",
      "True\n",
      "Current processor time (in seconds): 0.0010860059999999727\n",
      "True\n",
      "Current processor time (in seconds): 0.0015626399999999485\n",
      "False\n"
     ]
    }
   ],
   "source": [
    "def sequentielle(tableau, valeur):\n",
    "    for i in range(0,tableau.size):\n",
    "        if(tableau[i] == valeur):\n",
    "            return True\n",
    "    return False\n",
    "\n",
    "print(wrapper(sequentielle,(tabSorted,0))) # Cas le plus court\n",
    "print(wrapper(sequentielle,(tabSorted,9999))) #Cas le plus long\n",
    "print(wrapper(sequentielle,(tabSorted,10000))) #Cas Faux\n",
    "print(wrapper(sequentielle,(tabRandom,0)))\n",
    "print(wrapper(sequentielle,(tabRandom,9999)))\n",
    "print(wrapper(sequentielle,(tabRandom,10000)))"
   ]
  },
  {
   "cell_type": "markdown",
   "metadata": {},
   "source": [
    "### Dichotomique"
   ]
  },
  {
   "cell_type": "code",
   "execution_count": 23,
   "metadata": {},
   "outputs": [
    {
     "name": "stdout",
     "output_type": "stream",
     "text": [
      "Current processor time (in seconds): 2.715400000008472e-05\n",
      "True\n",
      "Current processor time (in seconds): 2.726399999986029e-05\n",
      "True\n",
      "Current processor time (in seconds): 2.9280000000131423e-06\n",
      "True\n",
      "Current processor time (in seconds): 5.143699999998752e-05\n",
      "True\n"
     ]
    }
   ],
   "source": [
    "def dichotomique(tableau, valeur):\n",
    "    if(tableau.size == 0):\n",
    "        return False\n",
    "    milieu = int((tableau.size/2))\n",
    "    if(tableau[milieu] == valeur):\n",
    "        return True\n",
    "    if(tableau[milieu] > valeur):\n",
    "        return dichotomique(tableau[0:milieu], valeur)\n",
    "    elif(tableau[milieu] < valeur):\n",
    "        return dichotomique(tableau[milieu:], valeur)\n",
    "    else :\n",
    "        return False\n",
    "    \n",
    "print(wrapper(dichotomique,(tabSorted,0))) # Cas long\n",
    "print(wrapper(dichotomique,(tabSorted,9999))) # Cas long\n",
    "print(wrapper(dichotomique,(tabSorted,5000))) # Cas le plus rapide\n",
    "print(wrapper(dichotomique,(tabSorted,4999))) # Cas long"
   ]
  },
  {
   "cell_type": "markdown",
   "metadata": {},
   "source": [
    "## Question 2"
   ]
  },
  {
   "cell_type": "markdown",
   "metadata": {},
   "source": [
    "Nous avons évoqué dans un partiel récent la manière de représenter ce que l’on appelle des «matrices creuses », c’est-à-dire des matrices de valeurs contenant plusieurs éléments nuls. Dansla version simple de gestion d’une matrice, celle-ci est représentée par un tableau à deux di-mensions dont les cases contiennent les éléments. <br>\n",
    "Il est aussi possible de la représenter par untableau à une dimension. On ne s’intéresse alors qu’aux éléments de la matrice qui ne sont pasnuls. Chaque case du tableau contient un tuple (i, j ,a) correspondant à l’indice de ligne, l’indicede colonne, et la valeur d’un élément non nul.<br>\n",
    "Dans un premier temps, le problème considéré consiste à calculer la somme des éléments d’une matrice. <br> \n",
    "Ecrivez et implémentez un algorithme permettant de calculer cette somme,pour chacune des deux représentations, puis comparez leur complexité spatiale (espace mémoire occupé) et leur complexité temporelle (nombre d’opérations à effectuer). <br>\n",
    "Que peut-on conclurede cette comparaison ? Montrez qu’il existe une valeur critique du nombre d’éléments non nuls à partir de laquelle une méthode l’emporte sur l’autre.Discutez dans un second temps le cas où l’on fait le produit entre deux matrices, en implé-mentant les méthodes associées.Mesurez les temps de calcul obtenus avec ces méthodes pour des tailles de matrices allantde 10×10 à 1000×1000, que vous initialiserez aléatoirement en fonction d’un pourcentage devaleurs nulles. Donnez les courbes associées."
   ]
  },
  {
   "cell_type": "code",
   "execution_count": 26,
   "metadata": {},
   "outputs": [
    {
     "name": "stdout",
     "output_type": "stream",
     "text": [
      "[[0, 1, 1], [0, 2, 2], [1, 0, 3], [1, 1, 4], [1, 2, 5], [2, 0, 6], [2, 1, 7], [2, 2, 8], [3, 2, 2]]\n",
      "Current processor time (in seconds): 4.418000000061539e-06\n",
      "38\n",
      "Current processor time (in seconds): 2.5710000000067623e-06\n",
      "38\n"
     ]
    }
   ],
   "source": [
    "def transformeMatriceCreuse(mat, n, m):\n",
    "    res = []\n",
    "    for i in range(n):\n",
    "        for j in range(m):\n",
    "            if(mat[i][j] != 0):\n",
    "                res.append([i,j,mat[i][j]])\n",
    "    return res\n",
    "\n",
    "def sommeMat(mat,n,m):\n",
    "    res = 0\n",
    "    for i in range(n):\n",
    "        for j in range(m):\n",
    "            res = res + mat[i][j]\n",
    "    return res\n",
    "\n",
    "def sommeMatT(mat,size):\n",
    "    ret = 0\n",
    "    for i in range(size):\n",
    "        ret = ret + mat[i][2]\n",
    "    return ret\n",
    "\n",
    "def prodMatT(mat,mat2):\n",
    "    res = []\n",
    "    for n in range(size):\n",
    "        for m in range(size):\n",
    "            val = 0\n",
    "            for i in range(size):\n",
    "                for j in range(size):\n",
    "                    if(mat[i][0] == n && mat2[j][1] == m)\n",
    "                    vam = val + mat[i][0] * mat2[j][1]\n",
    "            \n",
    "\n",
    "matrice = [[0,1,2],[3,4,5],[6,7,8],[0,0,2]]\n",
    "matnoncreuse = transformeMatriceCreuse(matrice,4,3)\n",
    "print(matnoncreuse)\n",
    "print(wrapper(sommeMat,(matrice,4,3)))\n",
    "print(wrapper(sommeMatT,(matnoncreuse,9)))"
   ]
  },
  {
   "cell_type": "markdown",
   "metadata": {},
   "source": [
    "## Question 3"
   ]
  },
  {
   "cell_type": "markdown",
   "metadata": {},
   "source": [
    "On dispose d’un tableau non trié A composé de n entiers. On souhaite décider s’il existe un sous-ensemble I⊆{1,2,···, n} tel que ∑i=IA[i] =∑i={1,2,···,n}/IA[i] <br>\n",
    "Proposez un algorithme pour résoudre ce problème. Quelle est sa complexité en temps ? Implémentez cette algorithme et testez le."
   ]
  },
  {
   "cell_type": "markdown",
   "metadata": {},
   "source": [
    "Algorithme en O(n²)"
   ]
  },
  {
   "cell_type": "code",
   "execution_count": 9,
   "metadata": {},
   "outputs": [
    {
     "name": "stdout",
     "output_type": "stream",
     "text": [
      "True\n",
      "False\n",
      "True\n",
      "True\n",
      "False\n"
     ]
    }
   ],
   "source": [
    "import numpy as np\n",
    "\n",
    "def fonctionPartition(list1,sum1):\n",
    "    if(sum1 == sumlist(list1)):\n",
    "        return True\n",
    "    for i in range(len(list1)):\n",
    "        sum2 = sum1 + list1[i]\n",
    "        if(sum2 == sumlist(np.delete(list1, i))) : \n",
    "            return True\n",
    "        if(fonctionPartition(np.delete(list1, i), sum2) == True):\n",
    "            return True\n",
    "    return False\n",
    "    \n",
    "def sumlist(list):\n",
    "    sum = 0\n",
    "    for i in range(len(list)):\n",
    "        sum = sum + list[i]\n",
    "    return sum\n",
    "\n",
    "print(fonctionPartition([1,1],0))\n",
    "print(fonctionPartition([1,2],0))\n",
    "print(fonctionPartition([1,2,3],0))\n",
    "print(fonctionPartition([1,2,3,4],0))\n",
    "print(fonctionPartition([1,2,3,4,5],0))"
   ]
  },
  {
   "cell_type": "markdown",
   "metadata": {},
   "source": [
    "## Question 4"
   ]
  },
  {
   "cell_type": "markdown",
   "metadata": {},
   "source": [
    "Calculer la complexité du programme ci-dessous en nombre d’appels de la fonction f en fonction de n dans les deux cas suivants :\n",
    "<br>\n",
    "for i = 1  to n−1:<br>\n",
    "    for j = i+1 to n :<br>\n",
    "        for k = 1  to  j :<br>\n",
    "            t [ i , j , k ]  :=  f ( t [ i , j , k ] )\n",
    "<br><br>\n",
    "for i = 1  to n :<br>\n",
    "    for j = 1  to  i :<br>\n",
    "        for k = j  to  i :<br>\n",
    "            t [ i , j , k ]  :=  f ( t [ i , j , k ] ) \n",
    "<br><strong>\n",
    "La compléxité de chacun de ces deux algorithme est en O(n³)\n",
    "</strong><br>\n",
    "Vérifiez expérimentalement vos conclusions en faisant varier dans votre programme et en comparant les deux temps d’exécution."
   ]
  },
  {
   "cell_type": "code",
   "execution_count": 19,
   "metadata": {},
   "outputs": [
    {
     "data": {
      "text/plain": [
       "[<matplotlib.lines.Line2D at 0x7f58feb29cc0>]"
      ]
     },
     "execution_count": 19,
     "metadata": {},
     "output_type": "execute_result"
    },
    {
     "data": {
      "image/png": "[encoded data removed]",
      "text/plain": [
       "<Figure size 432x288 with 2 Axes>"
      ]
     },
     "metadata": {},
     "output_type": "display_data"
    }
   ],
   "source": [
    "import matplotlib.pyplot as plt\n",
    "\n",
    "def fonction1(n):\n",
    "    nb = 0\n",
    "    for i in range(1,n-1):\n",
    "        for j in range(i+1,n):\n",
    "            for k in range(1,j):\n",
    "                nb = nb + 1\n",
    "    return nb\n",
    "\n",
    "def fonction2(n):\n",
    "    nb = 0\n",
    "    for i in range(1,n):\n",
    "        for j in range(1,i):\n",
    "            for k in range(1,i):\n",
    "                nb = nb + 1\n",
    "    return nb\n",
    "\n",
    "t = []\n",
    "for i in range(0,200):\n",
    "    t.append(fonction1(i))\n",
    "t2 = []\n",
    "for i in range(0,200):\n",
    "    t2.append(fonction2(i))\n",
    "\n",
    "fig,(a,b) = plt.subplots(2)\n",
    "a.plot(t)\n",
    "b.plot(t2)"
   ]
  },
  {
   "cell_type": "markdown",
   "metadata": {},
   "source": [
    "Le deuxième algorithme est plus rapide que le premier"
   ]
  }
 ],
 "metadata": {
  "kernelspec": {
   "display_name": "Python 3",
   "language": "python",
   "name": "python3"
  },
  "language_info": {
   "codemirror_mode": {
    "name": "ipython",
    "version": 3
   },
   "file_extension": ".py",
   "mimetype": "text/x-python",
   "name": "python",
   "nbconvert_exporter": "python",
   "pygments_lexer": "ipython3",
   "version": "3.6.5"
  }
 },
 "nbformat": 4,
 "nbformat_minor": 4
}
